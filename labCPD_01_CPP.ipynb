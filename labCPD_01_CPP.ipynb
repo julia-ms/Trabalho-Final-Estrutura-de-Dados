{
  "nbformat": 4,
  "nbformat_minor": 0,
  "metadata": {
    "colab": {
      "provenance": [],
      "include_colab_link": true
    },
    "kernelspec": {
      "name": "python3",
      "display_name": "Python 3"
    }
  },
  "cells": [
    {
      "cell_type": "markdown",
      "metadata": {
        "id": "view-in-github",
        "colab_type": "text"
      },
      "source": [
        "<a href=\"https://colab.research.google.com/github/julia-ms/Trabalho-Final-Estrutura-de-Dados/blob/main/labCPD_01_CPP.ipynb\" target=\"_parent\"><img src=\"https://colab.research.google.com/assets/colab-badge.svg\" alt=\"Open In Colab\"/></a>"
      ]
    },
    {
      "cell_type": "markdown",
      "metadata": {
        "id": "ijoIvaPV_pM8"
      },
      "source": [
        "# Disciplina de Classificação e Pesquisa de Dados\n",
        "\n",
        "### Implementação (em C/C++) dos principais algoritmos de Classificação por Inserção\n",
        "\n"
      ]
    },
    {
      "cell_type": "markdown",
      "metadata": {
        "id": "pFGTU77JXfW0"
      },
      "source": [
        "A seguir você encontra exemplos de como criar e compilar arquivos em c/cpp nessa plataforma (Google Colab). \n",
        "\n",
        "Essa plataforma nos permite criar células de código intercaladas com células de texto (como esta). Ele funciona justamente como um bloco de notas, onde você faz anotações em células (em forma de código ou texto) que podem ser executadas. O resultado da execução é salvo e você pode criar outras células para testar variações, sem perder os resultados anteriores, podendo comparar os resultados e as evoluções em um único arquivo.\n",
        "\n",
        "Depois dos trechos iniciais de exemplo de criação e compilação de arquivos, você encontra uma versão do algoritmo de inserção direta com busca linear, que conta a quantidade de trocas e comparações realizadas para ordenar o array passado.\n",
        "\n",
        "Também encontra um algoritmo de inserção direta com busca binária, que chama uma função auxiliar (incompleta) que faz a busca. Uma de suas atividades do laboratório de hoje é implementar essa função. Não esqueça que as operações de comparação e troca executadas por ela também devem ser consideradas.\n",
        "\n",
        "Finalmente, encontra a função shellsort (incompleta). Você deve implementar essa função, considerando o que estudamos em aula. Utilize qualquer sequência de intervalos, iniciando pelo maior (mas menor que a quantidade de elementos no array) e diminuindo até que o intervalo seja 1. Não se esqueça de contar a quantidade de comparações e trocas."
      ]
    },
    {
      "cell_type": "code",
      "metadata": {
        "colab": {
          "base_uri": "https://localhost:8080/"
        },
        "id": "UqSkyOpvxnJQ",
        "outputId": "47fcf40d-3221-433b-8fe2-4f8bc1c3c2c1"
      },
      "source": [
        "# Exemplo de arquivo em cpp\n",
        "\n",
        "# A linha seguinte informa onde salvar o programa (nome do arquivo)\n",
        "%%writefile sorting.cpp               \n",
        "\n",
        "#include<iostream>\n",
        "\n",
        "int main(void){\n",
        "    std::cout << \"Olá mundo!\";\n",
        "    return 0;\n",
        "}"
      ],
      "execution_count": null,
      "outputs": [
        {
          "output_type": "stream",
          "name": "stdout",
          "text": [
            "Writing sorting.cpp\n"
          ]
        }
      ]
    },
    {
      "cell_type": "markdown",
      "source": [
        "A célula seguinte ilustra como compilar o programa e executá-lo.\n",
        "\n",
        "Repare que é necessário executar um comando no BASH e, para isso, usa-se a mágica `%%script bash`."
      ],
      "metadata": {
        "id": "M_KbFWiyzRf3"
      }
    },
    {
      "cell_type": "code",
      "metadata": {
        "colab": {
          "base_uri": "https://localhost:8080/"
        },
        "id": "NZziDk8Y9_1Q",
        "outputId": "1ecd07c2-c1d7-4b29-9765-6933a6d42297"
      },
      "source": [
        "%%script bash\n",
        "g++ sorting.cpp -o sorting            # compila o arquivo salvo na célula anterior\n",
        "./sorting                             # executa"
      ],
      "execution_count": null,
      "outputs": [
        {
          "output_type": "stream",
          "name": "stdout",
          "text": [
            "Olá mundo!"
          ]
        }
      ]
    },
    {
      "cell_type": "markdown",
      "source": [
        "Para ver os arquivos na pasta atual do Google Colab, use o comando `ls`, como no exemplo:"
      ],
      "metadata": {
        "id": "QRCCL2j_05bv"
      }
    },
    {
      "cell_type": "code",
      "metadata": {
        "colab": {
          "base_uri": "https://localhost:8080/"
        },
        "id": "rjFhGhsKRs2Q",
        "outputId": "7031aeeb-4425-4cd3-a569-3ecc776e69c9"
      },
      "source": [
        "%%script bash\n",
        "ls -laX                               # mostra arquivos da pasta atual"
      ],
      "execution_count": null,
      "outputs": [
        {
          "output_type": "stream",
          "name": "stdout",
          "text": [
            "total 32\n",
            "drwxr-xr-x 1 root root 4096 Dec  5 14:37 sample_data\n",
            "-rwxr-xr-x 1 root root 8776 Dec  7 13:51 sorting\n",
            "drwxr-xr-x 1 root root 4096 Dec  7 13:51 .\n",
            "drwxr-xr-x 1 root root 4096 Dec  7 13:51 ..\n",
            "drwxr-xr-x 4 root root 4096 Dec  5 14:36 .config\n",
            "-rw-r--r-- 1 root root   85 Dec  7 13:51 sorting.cpp\n"
          ]
        }
      ]
    },
    {
      "cell_type": "markdown",
      "source": [
        "---\n",
        "\n",
        "O código seguinte implementa uma função `main` que cria um array dinâmico de tamanho `MAX`, inicialmente de 50 elementos. \n",
        "\n",
        "Inicialmente, o array criado é do tipo decrescente, mas há trechos (comentados) que podem gerá-lo de maneira crescente ou totalmente aleatória. \n",
        "\n",
        "Execute o código uma vez e, após, copie-o e cole-o em uma nova célula, para não perder os resultados. Nela, tente outro tipo de array (descomente a linha que cria o tipo desejado). Também tente com outros tamanhos de array. Você pode testar cada tipo e tamanho em uma célula diferente (acrescentando células e copiando e colando o seu conteúdo) ou pode modificar o código para que ele teste todas as opções, uma após a outra, adicionando laços e lógica de programação adequada para isso."
      ],
      "metadata": {
        "id": "dpO9TYL6zy6N"
      }
    },
    {
      "cell_type": "code",
      "metadata": {
        "id": "zJbI3kjY_r0j",
        "colab": {
          "base_uri": "https://localhost:8080/"
        },
        "outputId": "d48f08f4-56b7-4ae4-be78-fd956568d8b4"
      },
      "source": [
        "%%writefile sorting.cpp\n",
        "// Atenção: usa código C++11\n",
        "// para saber se o seu compilador tem suporte, execute: \n",
        "// cout << __cplusplus;\n",
        "// O resultado deve ser 201103L ou maior.\n",
        "// o do google collab é C++14 \n",
        "// A grande maioria dos compiladores atuais suporta nativamente c++11. \n",
        "// Outros exigem a configuração de parâmetros de compilação... Verifique a documentação do seu.\n",
        "\n",
        "#include<iostream>\n",
        "#include<tuple>\n",
        "#include<random>\n",
        "#include<bits/stdc++.h>\n",
        "\n",
        "//TODO: executar várias vezes os algoritmos, com tamanhos diferentes (e.g., 100, 1000 e 10000)\n",
        "\n",
        "#define MAX 50                                                                  // quantidade de números no array\n",
        "\n",
        "using namespace std;\n",
        "\n",
        "typedef int array_size_t;                                                       // Tipo para especificar tamanho do array\n",
        "typedef int* array_t;                                                           // Tipo para especificar formato do array\n",
        "typedef std::tuple<int, int> loginfo_t;                                         // armazena contagem de comparações e trocas  \n",
        "typedef std::mt19937 MyRNG;                                                     // Gerador de números aleatórios do tipo Mersenne Twister Random Generator \n",
        "\n",
        "MyRNG rng;                                                                      // gerador de números aleatórios\n",
        "uint32_t seed_val;                                                              // semente de geração de números\n",
        "\n",
        "loginfo_t insertion_sort(array_t, array_size_t);\n",
        "loginfo_t insertion_sortBB(array_t, array_size_t);\n",
        "loginfo_t shellsort(array_t, array_size_t);\n",
        "std::tuple<int, int, int> busca_binaria(array_t, int, int, int);                // retorna uma tupla contendo <posicao, qtd de trocas, qtd de comparações>\n",
        "\n",
        "int main(void){    \n",
        "    // cout << __cplusplus << endl;                                             // verifica versão do compilador\n",
        "    rng.seed(seed_val);                                                         // inicializa semente de geração de números aleatórios    \n",
        "    uniform_int_distribution<> distrib(0, INT_MAX);                             // cria gerador com distribuição uniforme entre 0 e MAX_INT\n",
        "    loginfo_t loginfo;                                                          // armazena contadores de comparações e trocas (ver typedef acima)\n",
        "\n",
        "    int* array = new int[MAX];                                                  // array dinâmico que armazena os números\n",
        "\n",
        "    // testar com as 3 versões de array (aleatório, crescente e decrescente):\n",
        "    // for(auto i=0;i<MAX;i++) array[i] = distrib(rng);                         // gera números aleatórios para o array\n",
        "    //for(auto i=0;i<MAX;i++) array[i] = i;                                     // gera números em ordem crescente\n",
        "    for(auto i=0;i<MAX;i++) array[i] = MAX-i;                                   // gera números em ordem decrescente\n",
        "    \n",
        "    cout << \"Array gerado: \";\n",
        "    for(auto i=0;i<MAX;i++) cout << array[i] << \" \";\n",
        "\n",
        "    // TODO: testar os outros algoritmos (insertion_sortBB e shellsort)\n",
        "    loginfo = insertion_sort(array, MAX);\n",
        "\n",
        "    //TODO: armazenar essas informações em um matriz ou hashtable\n",
        "\n",
        "    cout << endl << \"Array ordenado: \";                               \n",
        "    for(auto i=0;i<MAX;i++) cout << array[i] << \" \";\n",
        "\n",
        "    cout << endl;\n",
        "    cout << \"Quantidade de trocas: \" << get<0>(loginfo) << endl;\n",
        "    cout << \"Quantidade de comparações: \" << get<1>(loginfo) << endl;\n",
        "    cout << \"teste\" <<endl;\n",
        "\n",
        "    // TODO: mostrar informações de execução de todos os algoritmos\n",
        "\n",
        "    delete[] array;\n",
        "    return 0;\n",
        "}\n",
        "\n",
        "// Função de Inserção Direta com Busca Linear\n",
        "loginfo_t insertion_sort(array_t array, array_size_t array_size){\n",
        "    int trocas = 0, comparacoes = 0;\n",
        "    for(int i=1;i<array_size;i++){                                              // do segundo ao último\n",
        "        auto chave = array[i];                                                  // chave a inserir no subarray ordenado\n",
        "        auto j = i-1;                                                           // último elemento do subarray ordenado         \n",
        "        comparacoes = comparacoes + 1;\n",
        "        while(j >= 0 && array[j] > chave){                                      // busca linear da direita para a esquerda no subarray ordenado   \n",
        "            comparacoes = comparacoes + 1;\n",
        "            array[j+1] = array[j];\n",
        "            j = j - 1;\n",
        "            trocas = trocas + 1;\n",
        "        }\n",
        "        if(j+1 != i){ \n",
        "           array[j+1] = chave;\n",
        "           trocas = trocas + 1;\n",
        "       }\n",
        "    }\n",
        "    return make_tuple(trocas, comparacoes);                                     // retorna quantidade de operações\n",
        "}\n",
        "\n",
        "loginfo_t insertion_sortBB(array_t array, array_size_t array_size){    \n",
        "   int trocas = 0, comparacoes = 0;\n",
        "   std::tuple<int, int, int> info;\n",
        "   int i, local, j, k, elemento;\n",
        "   for(i = 1; i < array_size; ++i) {\n",
        "      j = i - 1;\n",
        "      elemento = array[i];\n",
        "      info = busca_binaria(array, elemento, 0, j);\n",
        "      local = get<0>(info);\n",
        "      trocas += get<1>(info);\n",
        "      comparacoes += get<2>(info)+1;\n",
        "      while (j >= local) {\n",
        "         trocas++;\n",
        "         array[j+1] = array[j];\n",
        "         j--;\n",
        "      }\n",
        "      if(j+1 != i){ \n",
        "           array[j+1] = elemento;\n",
        "           trocas = trocas + 1;\n",
        "       }\n",
        "   }\n",
        "    return make_tuple(trocas, comparacoes);                                     // retorna quantidade de operações\n",
        "}\n",
        "\n",
        "// *****************************************************\n",
        "//  TODO: Implementação dos seus algoritmos (a seguir)\n",
        "\n",
        "// Faz busca binária do 'elemento' no 'array', entre os índices 'inicio' e 'fim'\n",
        "// retorna posição do elemento, quantidade de trocas e quantidade de comparações\n",
        "\n",
        "std::tuple<int, int, int> busca_binaria(array_t array, int elemento, int inicio, int fim){\n",
        "   int comparacoes = 0, trocas = 0, meio = (inicio+fim)/2;\n",
        "\n",
        "      // defina aqui sua versão da função de busca binária\n",
        "\n",
        "   return make_tuple(meio, trocas, comparacoes);                                // retorna posição do elemento e quantidade de operações\n",
        "}\n",
        "\n",
        "loginfo_t shellsort(array_t array, array_size_t array_size){\n",
        "    int trocas = 0, comparacoes = 0;\n",
        "    \n",
        "    // defina aqui sua versão da função shellsort    \n",
        "    \n",
        "    return make_tuple(trocas, comparacoes);                                     // retorna quantidade de operações\n",
        "}"
      ],
      "execution_count": 6,
      "outputs": [
        {
          "output_type": "stream",
          "name": "stdout",
          "text": [
            "Overwriting sorting.cpp\n"
          ]
        }
      ]
    },
    {
      "cell_type": "code",
      "metadata": {
        "id": "lPw4mPYWbrl1"
      },
      "source": [
        "%%script bash\n",
        "g++ sorting.cpp -o sorting            "
      ],
      "execution_count": 7,
      "outputs": []
    },
    {
      "cell_type": "code",
      "metadata": {
        "colab": {
          "base_uri": "https://localhost:8080/"
        },
        "id": "XPnpzH7FbvsU",
        "outputId": "61a69d3b-0a44-4d32-eb97-b4cf0bd3ed34"
      },
      "source": [
        "%%script bash\n",
        "./sorting                             "
      ],
      "execution_count": 8,
      "outputs": [
        {
          "output_type": "stream",
          "name": "stdout",
          "text": [
            "Array gerado: 50 49 48 47 46 45 44 43 42 41 40 39 38 37 36 35 34 33 32 31 30 29 28 27 26 25 24 23 22 21 20 19 18 17 16 15 14 13 12 11 10 9 8 7 6 5 4 3 2 1 \n",
            "Array ordenado: 1 2 3 4 5 6 7 8 9 10 11 12 13 14 15 16 17 18 19 20 21 22 23 24 25 26 27 28 29 30 31 32 33 34 35 36 37 38 39 40 41 42 43 44 45 46 47 48 49 50 \n",
            "Quantidade de trocas: 1274\n",
            "Quantidade de comparações: 1274\n",
            "teste\n"
          ]
        }
      ]
    }
  ]
}